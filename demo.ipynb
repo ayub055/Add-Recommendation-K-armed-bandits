{
 "cells": [
  {
   "cell_type": "code",
   "execution_count": 1,
   "metadata": {},
   "outputs": [],
   "source": [
    "import numpy as np\n",
    "import matplotlib.pyplot as plt\n",
    "from ipywidgets import interact, Dropdown, Button, ToggleButtons, IntSlider\n",
    "import pandas as pd\n",
    "\n",
    "# --- Setup: True CTRs for ads ---\n",
    "true_ctrs = [0.1, 0.3, 0.2]   # Hidden from bandit (ground truth)\n",
    "n_ads = len(true_ctrs)\n",
    "\n",
    "# --- Storage for results ---\n",
    "ad_counts = np.zeros(n_ads)   # how many times each ad was shown\n",
    "ad_rewards = np.zeros(n_ads)  # how many clicks each ad got\n",
    "history = []                  # log of rounds\n",
    "\n",
    "\n",
    "# --- Simulate showing an ad ---\n",
    "def show_ad(ad_index):\n",
    "    reward = np.random.rand() < true_ctrs[ad_index]\n",
    "    ad_counts[ad_index] += 1\n",
    "    ad_rewards[ad_index] += reward\n",
    "    history.append((len(history)+1, ad_index, int(reward)))\n",
    "    return reward\n",
    "\n",
    "# --- ε-greedy bandit selection ---\n",
    "def select_ad_epsilon_greedy(epsilon=0.1):\n",
    "    if np.random.rand() < epsilon:\n",
    "        return np.random.randint(0, n_ads)  # explore\n",
    "    else:\n",
    "        estimates = ad_rewards / (ad_counts + 1e-6)  # avoid div/0\n",
    "        return np.argmax(estimates)  # exploit\n",
    "\n",
    "# --- Plot current estimates ---\n",
    "def plot_estimates():\n",
    "    estimates = ad_rewards / (ad_counts + 1e-6)\n",
    "    plt.figure(figsize=(6,4))\n",
    "    plt.bar(range(n_ads), estimates, alpha=0.7, label=\"Estimated CTR\")\n",
    "    plt.bar(range(n_ads), true_ctrs, alpha=0.3, label=\"True CTR\")\n",
    "    plt.xticks(range(n_ads), [f\"Ad {i}\" for i in range(n_ads)])\n",
    "    plt.ylabel(\"CTR\")\n",
    "    plt.legend()\n",
    "    plt.show()\n",
    "\n",
    "\n",
    "# --- Run simulation automatically ---\n",
    "def run_bandit(rounds=100, epsilon=0.1):\n",
    "    for _ in range(rounds):\n",
    "        ad = select_ad_epsilon_greedy(epsilon)\n",
    "        show_ad(ad)\n",
    "    plot_estimates()\n",
    "\n",
    "    # Final recommendation\n",
    "    best_estimate = np.argmax(ad_rewards / (ad_counts+1e-6))\n",
    "    print(f\"✅ Recommended Ad: Ad {best_estimate} \"\n",
    "          f\"(Estimated CTR={ad_rewards[best_estimate]/ad_counts[best_estimate]:.2f})\")\n",
    "\n",
    "    # Show log\n",
    "    df = pd.DataFrame(history, columns=[\"Round\", \"Ad\", \"Reward\"])\n",
    "    display(df.tail(10))  # last 10 rounds\n",
    "\n",
    "\n",
    "# --- Interactive mode for manual/auto ---\n",
    "def interactive_demo(mode=\"Auto\", ad_choice=\"Ad 0\", epsilon=0.1):\n",
    "    if mode == \"Manual\":\n",
    "        ad = int(ad_choice.split()[-1])\n",
    "    else:\n",
    "        ad = select_ad_epsilon_greedy(epsilon)\n",
    "\n",
    "    reward = show_ad(ad)\n",
    "    print(f\"Round {len(history)}: Shown {ad}, Reward={reward}\")\n",
    "\n",
    "    plot_estimates()\n",
    "    df = pd.DataFrame(history, columns=[\"Round\", \"Ad\", \"Reward\"])\n",
    "    display(df.tail(10))\n",
    "\n"
   ]
  },
  {
   "cell_type": "code",
   "execution_count": 2,
   "metadata": {},
   "outputs": [
    {
     "data": {
      "application/vnd.jupyter.widget-view+json": {
       "model_id": "d921d5b5321445ee8b69f521189c6e39",
       "version_major": 2,
       "version_minor": 0
      },
      "text/plain": [
       "interactive(children=(ToggleButtons(description='mode', options=('Auto', 'Manual'), value='Auto'), Dropdown(de…"
      ]
     },
     "metadata": {},
     "output_type": "display_data"
    }
   ],
   "source": [
    "# --- Widgets for interaction ---\n",
    "interact(\n",
    "    interactive_demo,\n",
    "    mode=ToggleButtons(options=[\"Auto\", \"Manual\"]),\n",
    "    ad_choice=Dropdown(options=[f\"Ad {i}\" for i in range(n_ads)], value=\"Ad 0\"),\n",
    "    epsilon=IntSlider(min=0, max=100, value=10, description=\"ε (%)\")\n",
    ");"
   ]
  },
  {
   "cell_type": "code",
   "execution_count": 5,
   "metadata": {},
   "outputs": [
    {
     "data": {
      "image/png": "[encoded data removed]",
      "text/plain": [
       "<Figure size 600x400 with 1 Axes>"
      ]
     },
     "metadata": {},
     "output_type": "display_data"
    },
    {
     "name": "stdout",
     "output_type": "stream",
     "text": [
      "✅ Recommended Ad: Ad 1 (Estimated CTR=0.35)\n"
     ]
    },
    {
     "data": {
      "text/html": [
       "<div>\n",
       "<style scoped>\n",
       "    .dataframe tbody tr th:only-of-type {\n",
       "        vertical-align: middle;\n",
       "    }\n",
       "\n",
       "    .dataframe tbody tr th {\n",
       "        vertical-align: top;\n",
       "    }\n",
       "\n",
       "    .dataframe thead th {\n",
       "        text-align: right;\n",
       "    }\n",
       "</style>\n",
       "<table border=\"1\" class=\"dataframe\">\n",
       "  <thead>\n",
       "    <tr style=\"text-align: right;\">\n",
       "      <th></th>\n",
       "      <th>Round</th>\n",
       "      <th>Ad</th>\n",
       "      <th>Reward</th>\n",
       "    </tr>\n",
       "  </thead>\n",
       "  <tbody>\n",
       "    <tr>\n",
       "      <th>558</th>\n",
       "      <td>559</td>\n",
       "      <td>1</td>\n",
       "      <td>0</td>\n",
       "    </tr>\n",
       "    <tr>\n",
       "      <th>559</th>\n",
       "      <td>560</td>\n",
       "      <td>1</td>\n",
       "      <td>1</td>\n",
       "    </tr>\n",
       "    <tr>\n",
       "      <th>560</th>\n",
       "      <td>561</td>\n",
       "      <td>1</td>\n",
       "      <td>0</td>\n",
       "    </tr>\n",
       "    <tr>\n",
       "      <th>561</th>\n",
       "      <td>562</td>\n",
       "      <td>1</td>\n",
       "      <td>0</td>\n",
       "    </tr>\n",
       "    <tr>\n",
       "      <th>562</th>\n",
       "      <td>563</td>\n",
       "      <td>1</td>\n",
       "      <td>0</td>\n",
       "    </tr>\n",
       "    <tr>\n",
       "      <th>563</th>\n",
       "      <td>564</td>\n",
       "      <td>1</td>\n",
       "      <td>1</td>\n",
       "    </tr>\n",
       "    <tr>\n",
       "      <th>564</th>\n",
       "      <td>565</td>\n",
       "      <td>1</td>\n",
       "      <td>1</td>\n",
       "    </tr>\n",
       "    <tr>\n",
       "      <th>565</th>\n",
       "      <td>566</td>\n",
       "      <td>1</td>\n",
       "      <td>1</td>\n",
       "    </tr>\n",
       "    <tr>\n",
       "      <th>566</th>\n",
       "      <td>567</td>\n",
       "      <td>1</td>\n",
       "      <td>0</td>\n",
       "    </tr>\n",
       "    <tr>\n",
       "      <th>567</th>\n",
       "      <td>568</td>\n",
       "      <td>1</td>\n",
       "      <td>1</td>\n",
       "    </tr>\n",
       "  </tbody>\n",
       "</table>\n",
       "</div>"
      ],
      "text/plain": [
       "     Round  Ad  Reward\n",
       "558    559   1       0\n",
       "559    560   1       1\n",
       "560    561   1       0\n",
       "561    562   1       0\n",
       "562    563   1       0\n",
       "563    564   1       1\n",
       "564    565   1       1\n",
       "565    566   1       1\n",
       "566    567   1       0\n",
       "567    568   1       1"
      ]
     },
     "metadata": {},
     "output_type": "display_data"
    }
   ],
   "source": [
    "run_bandit(rounds=500, epsilon=0.1)\n"
   ]
  },
  {
   "cell_type": "code",
   "execution_count": null,
   "metadata": {},
   "outputs": [],
   "source": []
  }
 ],
 "metadata": {
  "kernelspec": {
   "display_name": "nlp",
   "language": "python",
   "name": "python3"
  },
  "language_info": {
   "codemirror_mode": {
    "name": "ipython",
    "version": 3
   },
   "file_extension": ".py",
   "mimetype": "text/x-python",
   "name": "python",
   "nbconvert_exporter": "python",
   "pygments_lexer": "ipython3",
   "version": "3.12.9"
  }
 },
 "nbformat": 4,
 "nbformat_minor": 2
}
